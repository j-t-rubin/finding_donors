{
 "cells": [
  {
   "cell_type": "code",
   "execution_count": 1,
   "metadata": {
    "scrolled": true
   },
   "outputs": [
    {
     "data": {
      "text/html": [
       "<div>\n",
       "<style>\n",
       "    .dataframe thead tr:only-child th {\n",
       "        text-align: right;\n",
       "    }\n",
       "\n",
       "    .dataframe thead th {\n",
       "        text-align: left;\n",
       "    }\n",
       "\n",
       "    .dataframe tbody tr th {\n",
       "        vertical-align: top;\n",
       "    }\n",
       "</style>\n",
       "<table border=\"1\" class=\"dataframe\">\n",
       "  <thead>\n",
       "    <tr style=\"text-align: right;\">\n",
       "      <th></th>\n",
       "      <th>age</th>\n",
       "      <th>workclass</th>\n",
       "      <th>education_level</th>\n",
       "      <th>education-num</th>\n",
       "      <th>marital-status</th>\n",
       "      <th>occupation</th>\n",
       "      <th>relationship</th>\n",
       "      <th>race</th>\n",
       "      <th>sex</th>\n",
       "      <th>capital-gain</th>\n",
       "      <th>capital-loss</th>\n",
       "      <th>hours-per-week</th>\n",
       "      <th>native-country</th>\n",
       "      <th>income</th>\n",
       "    </tr>\n",
       "  </thead>\n",
       "  <tbody>\n",
       "    <tr>\n",
       "      <th>0</th>\n",
       "      <td>39</td>\n",
       "      <td>State-gov</td>\n",
       "      <td>Bachelors</td>\n",
       "      <td>13.0</td>\n",
       "      <td>Never-married</td>\n",
       "      <td>Adm-clerical</td>\n",
       "      <td>Not-in-family</td>\n",
       "      <td>White</td>\n",
       "      <td>Male</td>\n",
       "      <td>2174.0</td>\n",
       "      <td>0.0</td>\n",
       "      <td>40.0</td>\n",
       "      <td>United-States</td>\n",
       "      <td>&lt;=50K</td>\n",
       "    </tr>\n",
       "  </tbody>\n",
       "</table>\n",
       "</div>"
      ],
      "text/plain": [
       "   age   workclass education_level  education-num  marital-status  \\\n",
       "0   39   State-gov       Bachelors           13.0   Never-married   \n",
       "\n",
       "      occupation    relationship    race    sex  capital-gain  capital-loss  \\\n",
       "0   Adm-clerical   Not-in-family   White   Male        2174.0           0.0   \n",
       "\n",
       "   hours-per-week  native-country income  \n",
       "0            40.0   United-States  <=50K  "
      ]
     },
     "metadata": {},
     "output_type": "display_data"
    }
   ],
   "source": [
    "# Import libraries necessary for this project\n",
    "import numpy as np\n",
    "import pandas as pd\n",
    "from time import time\n",
    "from IPython.display import display # Allows the use of display() for DataFrames\n",
    "\n",
    "# Import supplementary visualization code visuals.py\n",
    "import visuals as vs\n",
    "\n",
    "# Pretty display for notebooks\n",
    "%matplotlib inline\n",
    "\n",
    "# Load the Census dataset\n",
    "data = pd.read_csv(\"census.csv\")\n",
    "\n",
    "# Success - Display the first record\n",
    "display(data.head(n=1))\n"
   ]
  },
  {
   "cell_type": "code",
   "execution_count": 2,
   "metadata": {
    "collapsed": true
   },
   "outputs": [],
   "source": [
    "income = (data['income'])"
   ]
  },
  {
   "cell_type": "code",
   "execution_count": 3,
   "metadata": {},
   "outputs": [
    {
     "name": "stdout",
     "output_type": "stream",
     "text": [
      "Total number of records: 45222\n",
      "Individuals making more than $50,000: 11208.0\n",
      "Individuals making at most $50,000: 34014.0\n",
      "Percentage of individuals making more than $50,000: 24.78%\n"
     ]
    }
   ],
   "source": [
    "n_records = data.shape[0]\n",
    "n_greater_50k = 0\n",
    "n_at_most_50k = 0\n",
    "\n",
    "\n",
    "for i in range(income.size): \n",
    "    n_at_most_50k+=float(income[i] == '<=50K')\n",
    "    n_greater_50k+=float(income[i] == '>50K')\n",
    "\n",
    "greater_percent = float(n_greater_50k / n_records)*100.0\n",
    "\n",
    "# Print the results\n",
    "print \"Total number of records: {}\".format(n_records)\n",
    "print \"Individuals making more than $50,000: {}\".format(n_greater_50k)\n",
    "print \"Individuals making at most $50,000: {}\".format(n_at_most_50k)\n",
    "print \"Percentage of individuals making more than $50,000: {:.2f}%\".format(greater_percent)"
   ]
  },
  {
   "cell_type": "code",
   "execution_count": 4,
   "metadata": {},
   "outputs": [
    {
     "data": {
      "image/png": "[encoded data removed]",
      "text/plain": [
       "<matplotlib.figure.Figure at 0xc11ecf8>"
      ]
     },
     "metadata": {},
     "output_type": "display_data"
    }
   ],
   "source": [
    "# Split the data into features and target label\n",
    "income_raw = data['income']\n",
    "features_raw = data.drop('income', axis = 1)\n",
    "\n",
    "# Visualize skewed continuous features of original data\n",
    "vs.distribution(data)"
   ]
  },
  {
   "cell_type": "code",
   "execution_count": 5,
   "metadata": {},
   "outputs": [
    {
     "data": {
      "image/png": "[encoded data removed]",
      "text/plain": [
       "<matplotlib.figure.Figure at 0xc15ae48>"
      ]
     },
     "metadata": {},
     "output_type": "display_data"
    }
   ],
   "source": [
    "# Log-transform the skewed features\n",
    "skewed = ['capital-gain', 'capital-loss']\n",
    "features_log_transformed = pd.DataFrame(data = features_raw)\n",
    "features_log_transformed[skewed] = features_raw[skewed].apply(lambda x: np.log(x + 1))\n",
    "\n",
    "# Visualize the new log distributions\n",
    "vs.distribution(features_log_transformed, transformed = True)"
   ]
  },
  {
   "cell_type": "code",
   "execution_count": 6,
   "metadata": {
    "scrolled": true
   },
   "outputs": [
    {
     "data": {
      "text/html": [
       "<div>\n",
       "<style>\n",
       "    .dataframe thead tr:only-child th {\n",
       "        text-align: right;\n",
       "    }\n",
       "\n",
       "    .dataframe thead th {\n",
       "        text-align: left;\n",
       "    }\n",
       "\n",
       "    .dataframe tbody tr th {\n",
       "        vertical-align: top;\n",
       "    }\n",
       "</style>\n",
       "<table border=\"1\" class=\"dataframe\">\n",
       "  <thead>\n",
       "    <tr style=\"text-align: right;\">\n",
       "      <th></th>\n",
       "      <th>age</th>\n",
       "      <th>workclass</th>\n",
       "      <th>education_level</th>\n",
       "      <th>education-num</th>\n",
       "      <th>marital-status</th>\n",
       "      <th>occupation</th>\n",
       "      <th>relationship</th>\n",
       "      <th>race</th>\n",
       "      <th>sex</th>\n",
       "      <th>capital-gain</th>\n",
       "      <th>capital-loss</th>\n",
       "      <th>hours-per-week</th>\n",
       "      <th>native-country</th>\n",
       "    </tr>\n",
       "  </thead>\n",
       "  <tbody>\n",
       "    <tr>\n",
       "      <th>0</th>\n",
       "      <td>0.301370</td>\n",
       "      <td>State-gov</td>\n",
       "      <td>Bachelors</td>\n",
       "      <td>0.800000</td>\n",
       "      <td>Never-married</td>\n",
       "      <td>Adm-clerical</td>\n",
       "      <td>Not-in-family</td>\n",
       "      <td>White</td>\n",
       "      <td>Male</td>\n",
       "      <td>0.667492</td>\n",
       "      <td>0.0</td>\n",
       "      <td>0.397959</td>\n",
       "      <td>United-States</td>\n",
       "    </tr>\n",
       "    <tr>\n",
       "      <th>1</th>\n",
       "      <td>0.452055</td>\n",
       "      <td>Self-emp-not-inc</td>\n",
       "      <td>Bachelors</td>\n",
       "      <td>0.800000</td>\n",
       "      <td>Married-civ-spouse</td>\n",
       "      <td>Exec-managerial</td>\n",
       "      <td>Husband</td>\n",
       "      <td>White</td>\n",
       "      <td>Male</td>\n",
       "      <td>0.000000</td>\n",
       "      <td>0.0</td>\n",
       "      <td>0.122449</td>\n",
       "      <td>United-States</td>\n",
       "    </tr>\n",
       "    <tr>\n",
       "      <th>2</th>\n",
       "      <td>0.287671</td>\n",
       "      <td>Private</td>\n",
       "      <td>HS-grad</td>\n",
       "      <td>0.533333</td>\n",
       "      <td>Divorced</td>\n",
       "      <td>Handlers-cleaners</td>\n",
       "      <td>Not-in-family</td>\n",
       "      <td>White</td>\n",
       "      <td>Male</td>\n",
       "      <td>0.000000</td>\n",
       "      <td>0.0</td>\n",
       "      <td>0.397959</td>\n",
       "      <td>United-States</td>\n",
       "    </tr>\n",
       "    <tr>\n",
       "      <th>3</th>\n",
       "      <td>0.493151</td>\n",
       "      <td>Private</td>\n",
       "      <td>11th</td>\n",
       "      <td>0.400000</td>\n",
       "      <td>Married-civ-spouse</td>\n",
       "      <td>Handlers-cleaners</td>\n",
       "      <td>Husband</td>\n",
       "      <td>Black</td>\n",
       "      <td>Male</td>\n",
       "      <td>0.000000</td>\n",
       "      <td>0.0</td>\n",
       "      <td>0.397959</td>\n",
       "      <td>United-States</td>\n",
       "    </tr>\n",
       "    <tr>\n",
       "      <th>4</th>\n",
       "      <td>0.150685</td>\n",
       "      <td>Private</td>\n",
       "      <td>Bachelors</td>\n",
       "      <td>0.800000</td>\n",
       "      <td>Married-civ-spouse</td>\n",
       "      <td>Prof-specialty</td>\n",
       "      <td>Wife</td>\n",
       "      <td>Black</td>\n",
       "      <td>Female</td>\n",
       "      <td>0.000000</td>\n",
       "      <td>0.0</td>\n",
       "      <td>0.397959</td>\n",
       "      <td>Cuba</td>\n",
       "    </tr>\n",
       "  </tbody>\n",
       "</table>\n",
       "</div>"
      ],
      "text/plain": [
       "        age          workclass education_level  education-num  \\\n",
       "0  0.301370          State-gov       Bachelors       0.800000   \n",
       "1  0.452055   Self-emp-not-inc       Bachelors       0.800000   \n",
       "2  0.287671            Private         HS-grad       0.533333   \n",
       "3  0.493151            Private            11th       0.400000   \n",
       "4  0.150685            Private       Bachelors       0.800000   \n",
       "\n",
       "        marital-status          occupation    relationship    race      sex  \\\n",
       "0        Never-married        Adm-clerical   Not-in-family   White     Male   \n",
       "1   Married-civ-spouse     Exec-managerial         Husband   White     Male   \n",
       "2             Divorced   Handlers-cleaners   Not-in-family   White     Male   \n",
       "3   Married-civ-spouse   Handlers-cleaners         Husband   Black     Male   \n",
       "4   Married-civ-spouse      Prof-specialty            Wife   Black   Female   \n",
       "\n",
       "   capital-gain  capital-loss  hours-per-week  native-country  \n",
       "0      0.667492           0.0        0.397959   United-States  \n",
       "1      0.000000           0.0        0.122449   United-States  \n",
       "2      0.000000           0.0        0.397959   United-States  \n",
       "3      0.000000           0.0        0.397959   United-States  \n",
       "4      0.000000           0.0        0.397959            Cuba  "
      ]
     },
     "metadata": {},
     "output_type": "display_data"
    }
   ],
   "source": [
    "# Import sklearn.preprocessing.StandardScaler\n",
    "from sklearn.preprocessing import MinMaxScaler\n",
    "\n",
    "# Initialize a scaler, then apply it to the features\n",
    "scaler = MinMaxScaler() # default=(0, 1)\n",
    "numerical = ['age', 'education-num', 'capital-gain', 'capital-loss', 'hours-per-week']\n",
    "\n",
    "features_log_minmax_transform = pd.DataFrame(data = features_log_transformed)\n",
    "features_log_minmax_transform[numerical] = scaler.fit_transform(features_log_transformed[numerical])\n",
    "\n",
    "# Show an example of a record with scaling applied\n",
    "display(features_log_minmax_transform.head(n = 5))"
   ]
  },
  {
   "cell_type": "code",
   "execution_count": 7,
   "metadata": {
    "scrolled": false
   },
   "outputs": [
    {
     "name": "stdout",
     "output_type": "stream",
     "text": [
      "103 total features after one-hot encoding.\n"
     ]
    }
   ],
   "source": [
    "#One-hot encode the 'features_log_minmax_transform' data using pandas.get_dummies()\n",
    "features_final = pd.get_dummies(features_log_minmax_transform)\n",
    "\n",
    "    \n",
    "#Encode the 'income_raw' data to numerical values\n",
    "income = []\n",
    "for i in range(income_raw.size): \n",
    "     income.append(float(income_raw[i] == '>50K'))\n",
    "\n",
    "\n",
    "# Print the number of features after one-hot encoding\n",
    "encoded = list(features_final.columns)\n",
    "print \"{} total features after one-hot encoding.\".format(len(encoded))"
   ]
  },
  {
   "cell_type": "code",
   "execution_count": 8,
   "metadata": {
    "scrolled": true
   },
   "outputs": [
    {
     "name": "stdout",
     "output_type": "stream",
     "text": [
      "Training set has 36177 samples.\n",
      "Testing set has 9045 samples.\n"
     ]
    },
    {
     "name": "stderr",
     "output_type": "stream",
     "text": [
      "C:\\Users\\J\\Anaconda2\\lib\\site-packages\\sklearn\\cross_validation.py:44: DeprecationWarning: This module was deprecated in version 0.18 in favor of the model_selection module into which all the refactored classes and functions are moved. Also note that the interface of the new CV iterators are different from that of this module. This module will be removed in 0.20.\n",
      "  \"This module will be removed in 0.20.\", DeprecationWarning)\n"
     ]
    }
   ],
   "source": [
    "# Import train_test_split\n",
    "from sklearn.cross_validation import train_test_split\n",
    "\n",
    "# Split the 'features' and 'income' data into training and testing sets\n",
    "X_train, X_test, y_train, y_test = train_test_split(features_final, \n",
    "                                                    income, \n",
    "                                                    test_size = 0.2, \n",
    "                                                    random_state = 0)\n",
    "\n",
    "# Show the results of the split\n",
    "print \"Training set has {} samples.\".format(X_train.shape[0])\n",
    "print \"Testing set has {} samples.\".format(X_test.shape[0])"
   ]
  },
  {
   "cell_type": "code",
   "execution_count": 9,
   "metadata": {},
   "outputs": [
    {
     "name": "stdout",
     "output_type": "stream",
     "text": [
      "Naive Predictor: [Accuracy score: 0.2478, F-score: 0.2917]\n"
     ]
    }
   ],
   "source": [
    "TP = np.sum(income) # Counting the ones as this is the naive case. Note that 'income' is the 'income_raw' data \n",
    "FP = float(income.count(0)) # Specific to the naive case\n",
    "\n",
    "TN = 0 # No predicted negatives in the naive case\n",
    "FN = 0 # No predicted negatives in the naive case\n",
    "\n",
    "accuracy = (TP + TN)/(TP+FP+TN+FN)\n",
    "recall = TP / (TP + FN)\n",
    "precision = TP / (TP + FP)\n",
    "\n",
    "\n",
    "#Calculate F-score using the formula above for beta = 0.5 and correct values for precision and recall.\n",
    "beta = 0.5\n",
    "fscore = (1 + beta**2) * (precision * recall) / ((beta**2 * precision) + recall)\n",
    "\n",
    "# Print the results \n",
    "print \"Naive Predictor: [Accuracy score: {:.4f}, F-score: {:.4f}]\".format(accuracy, fscore)"
   ]
  },
  {
   "cell_type": "markdown",
   "metadata": {},
   "source": [
    "<b>Question 1 - Naive Predictor Performace</b><br>\n",
    "If we chose a model that always predicted an individual made more than $50,000, what would that model's accuracy and F-score be on this dataset? You must use the code cell below and assign your results to 'accuracy' and 'fscore' to be used later.\n",
    "Please note that the the purpose of generating a naive predictor is simply to show what a base model without any intelligence would look like. In the real world, ideally your base model would be either the results of a previous model or could be based on a research paper upon which you are looking to improve. When there is no benchmark model set, getting a result better than random choice is a place you could start from.\n",
    "\n",
    "<b>Answer 1</b>: The F-score for the naive model, assuming all individuals make >$50K is 0.2917."
   ]
  },
  {
   "cell_type": "markdown",
   "metadata": {},
   "source": [
    "<b>Question 2 - Model Application</b>\n",
    "List three of the supervised learning models above that are appropriate for this problem that you will test on the census data. For each model chosen\n",
    "Describe one real-world application in industry where the model can be applied.\n",
    "What are the strengths of the model; when does it perform well?\n",
    "What are the weaknesses of the model; wen does it perform poorly?\n",
    "What makes this model a good candidate for the problem, given what you know about the data?\n",
    "\n",
    "\n",
    "<b>Answer 2</b>: Three possible supervised learning models are <b>decision trees</b>, <b>logistic regression</b>, and <b>K-nearest neighbors</b>.\n",
    " \n",
    "<b>Decision tree</b><br>\n",
    "(i) A decision tree can be used to model what candidate a person votes for in the US presidential election.  Strictly speaking, the voting prediction should involve a separate yes/no classification model for each candidate. However, since the vast majority of votes go to candidates from the two major parties, the problem can be simplified into a single Republican/Democrat classification model. \n",
    "\n",
    "A well known feature of US elections is that geography is a weak feature for classifying individual votes if resolved on the state-wide basis (because of thin margins of victory even in solidly red or blue states) [<a target=\"_blank\" href=\"http://www-personal.umich.edu/~mejn/election/2016/\">1</a>], but becomes much stronger when resolved to the level of counties. Furthermore, the categorization into hundreds of counties is understood to be a proxy for much simpler categorical features: race, population density, and income [<a target=\"_blank\" href=\"https://www.nytimes.com/interactive/2016/11/08/us/politics/election-exit-polls.html\">2</a>]. Rural areas strongly lean Republican and urban ones lean Democrat, while black voters nationwide strongly lean democrat [<a target=\"_blank\" href=\"https://demographics.virginia.edu/DotMap/\">3</a>]. \n",
    "\n",
    "\n",
    "(ii) The strength of a decision tree is that it is easy to apply to categorical and non-numeric features, especially with small numbers of categories.  It performs well when there is a hierarchy of importance of the features, so that some or all branches originating from the first few nodes will all result in the same classification [<a target=\"_blank\" href=\"http://scikit-learn.org/stable/modules/tree.html#tree\">4</a>].\n",
    "\n",
    "\n",
    "For example, in the party affiliation model, it is known that geography and income strongly determine party affiliation, but that geography is more important: most rural voters lean Republican regardless of income, while urban voters of low and moderate income lean democrat and those of high income lean Republican. Thus if geography is the first node in the decision tree, all 'rural' voters can be set to Republican so that subsequent decisions only need to be applied to the 'urban' branch. If income is the second node, all high income earners can be set to Republican and subsequent decisions applied only to the low and moderate income branches of urban voters. In this way, the outcome of the tree (i.e. the resulting categories at the bottom) will have far fewer combinations of feature categories than the total possible number. \n",
    "\n",
    "(iii) The weakness of a decision tree is that it can lead to overfitting if there is no hierarchy of importance of features, or if the data set includes unnecessary features that have little predictive power. If branches cannot be neglected near the top of the tree, or if splits are made with weak, unnecessary features, then the number of possible combinations of categories at the bottom will increase geometrically. In addition to increasing computation time, it is possible to achieve a trivially high or perfect classification accuracy by adding unnecessary features to the tree until every single data point has its own branch. Since the testing data are not expected to be related in the same precise way to the unimportant features, the trivially high training score is not reproduced for the testing set and represents an overfit [5].\n",
    "\n",
    "\n",
    "(iv) In this example, a decision tree model is a good candidate because many of the features are categorical and it makes sense to ask qualitatively whether a certain category is associated with high income or low income rather than to try to map the categories to numbers (other than for labeling purposes). \n",
    "\n",
    "Some of the features are clearly more important than others. For example, the workclass feature includes the category of non-paying work, as well as state government work for which there are usually strict limits on salaries. Education is also very important, as those without a college degree usually earn significantly less than those with college or graduate degrees. These two features should be at the top of the decision tree [<a target=\"_blank\" href=\"https://www.bls.gov/opub/ted/2015/median-weekly-earnings-by-education-gender-race-and-ethnicity-in-2014.htm\">6</a>]. Age, while important, should be lower on the decision tree because it is most strongly correlated to income for a given individual throughout their lifetime, rather than for different individuals who may have different education levels and workclasses [<a target=\"_blank\" href=\"https://www.bls.gov/opub/ted/2017/womens-and-mens-earnings-by-age-in-2016.htm\">7</a>].\n",
    "<br><br>\n",
    "<b>Logistic regression</b><br>\n",
    "(i) Logistic regression can be applied to model whether or not a married couple is likely to divorce. Divorce rates are known to depend most strongly on income, education level, age of the spouses, and length of the marriage. Of these variables, only length of marriage has a strong linear correlation to divorce rate [<a target=\"_blank\" href=\"http://www.pewresearch.org/fact-tank/2017/03/09/led-by-baby-boomers-divorce-rates-climb-for-americas-50-population/\">8</a>]. The others are understood by researchers to result from categorical divides: age dependence being due to a generational divide (Baby Boomers, millennials, etc.) and education dependence due to a class divide between those with or without a college education [<a target=\"_blank\" href=\"http://www.pewresearch.org/fact-tank/2017/09/14/as-u-s-marriage-rate-hovers-at-50-education-gap-in-marital-status-widens/\">9</a>]. However, divorce rates are low overall (less than 30%), and while these features account for most of the variation in this rate, the feature categories cannot be neatly grouped into certain to divorce and certain to not divorce classes.\n",
    "\n",
    "(ii) The strength of logistic regression is that it can accommodate features that have weak classification power where there is an overlap of points with different classes. Logistic regression fits the probability of the outcome classification to a continuous function of the features, as opposed to methods like decision tree or K-nearest neighbors which divide the feature space into regions of entirely one outcome or the other, which are better suited to data where the classes do not overlap. Whereas a decision tree would require many splits to isolate close points that differ in class, logistic regression finds the best split between regions of feature space with relatively higher and lower fractions of income earners [<a target=\"_blank\" href=\"http://scikit-learn.org/stable/modules/linear_model.html#logistic-regression\">10</a>].  \n",
    "\n",
    "\n",
    "(iii) The weakness of logistic regression is that for categorical variables, especially when transformed with one-shot encoding, there will be many regions of feature space with zero data points. For numerical data, interpolation between neighboring points can be used to determine classes in these regions, but for categorical data this is not possible [11]. \n",
    "\n",
    "(iv) Logistic regression is similar to a decision tree but is better suited to features that can be divided into ranges that correlate to income (rather than just high or low) and which may be weak overall so that the entire feature space contains a significant fraction of low income earners. This is likely to be the case for the numerical features in the current problem, because a feature like age correlates to income generally, but might not be strong enough to produce a sharp divide between high and low income classes. To be specific, in 2016 the average of men’s and women’s median weakly earnings for different age groups ranges from a low of approximately \\$500 for ages 16-24 to a high of approximately \\$900 for ages 55-64 (and then drops slightly for retirees) [<a target=\"_blank\" href=\"https://www.bls.gov/opub/ted/2017/womens-and-mens-earnings-by-age-in-2016.htm\">6</a>]. Multiplying by 52 weeks, the highest median income is still less than \\$50,000, meaning that even in the highest income cohort less than 50 percent of individuals are in the ‘high income’ class for this problem. \n",
    "<br><br>\n",
    "<b>K-Nearest Neighbors</b><br>\n",
    "(i) K-nearest neighbors model can be used to predict race and ethnicity in the US based on geography. Researchers have demonstrated that America is largely segregated based on race [<a target=\"_blank\" href=\"https://demographics.virginia.edu/DotMap/\">3</a>], which in terms of a classification model means that different classes are grouped <i>close</i> together in physical space, which can be measured by features latitude and longitude.\n",
    "\n",
    "(ii) The benefit of K-nearest neighbors is that the algorithm is simple and, unlike decision trees, classification is based on grouping points close together in all dimensions of the feature space rather than carving out different regions of individual feature axes. It works best when there are at least some regions of feature space that are mostly homogenous with respect to outcome class [<a target=\"_blank\" href=\"http://scikit-learn.org/stable/modules/neighbors.html#classification\">12</a>, 13].\n",
    "\n",
    "(iii) The weakness of K-nearest neighbors is that the algorithm must compute the distances between all pairs of points, so computation time grows rapidly with the number of features and sample points. Additionally, the classification is based on a \"winner take all\" vote of the nearest neighbors, so the model performs poorly for data with only weak separation between the different outcome classes [<a target=\"_blank\" href=\"http://scikit-learn.org/stable/modules/neighbors.html#regression\">14</a>,<a target=\"_blank\" href=\"http://scikit-learn.org/stable/modules/neighbors.html#nearest-neighbor-algorithms\">15</a>].\n",
    "\n",
    "\n",
    "(iv) For the current example, there are likely to be certain <i>regions</i> of feature space (i.e. in more than one feature dimension) with a high concentration of high earners, because even if the individual features are weak, the intersection of several features might be strong.\n"
   ]
  },
  {
   "cell_type": "code",
   "execution_count": 10,
   "metadata": {
    "collapsed": true
   },
   "outputs": [],
   "source": [
    "from sklearn.metrics import fbeta_score, accuracy_score\n",
    "\n",
    "def train_predict(learner, sample_size, X_train, y_train, X_test, y_test): \n",
    "    #inputs:\n",
    "    #   - learner: the learning algorithm to be trained and predicted on\n",
    "    #   - sample_size: the size of samples (number) to be drawn from training set\n",
    "    #   - X_train: features training set\n",
    "    #   - y_train: income training set\n",
    "    #   - X_test: features testing set\n",
    "    #   - y_test: income testing set\n",
    "\n",
    "    results = {}\n",
    "\n",
    "    start = time() # Get start time\n",
    "    learner.fit(np.array(X_train)[:sample_size], np.array(y_train)[:sample_size])\n",
    "    end = time() # Get end time\n",
    "    \n",
    "    results['train_time'] = end - start\n",
    "        \n",
    "    # Get the predictions on the test set(X_test),\n",
    "    # then get predictions on the first 300 training samples(X_train) using .predict()\n",
    "    start = time() # Get start time\n",
    "    predictions_test = learner.predict(np.array(X_test)[:sample_size])\n",
    "    predictions_train = learner.predict(np.array(X_train)[:300])\n",
    "    end = time() # Get end time\n",
    "    \n",
    "    # Calculate the total prediction time\n",
    "    results['pred_time'] = end - start\n",
    "            \n",
    "    # Compute accuracy on the first 300 training samples which is y_train[:300]\n",
    "    results['acc_train'] = accuracy_score(y_train[:300],predictions_train)\n",
    "        \n",
    "    # Compute accuracy on test set using accuracy_score()\n",
    "    results['acc_test'] = accuracy_score(y_test[:sample_size],predictions_test)\n",
    "    \n",
    "    # Compute F-score on the the first 300 training samples using fbeta_score()\n",
    "    results['f_train'] = fbeta_score(y_train[:300], predictions_train, beta=0.5)\n",
    "        \n",
    "    # Compute F-score on the test set which is y_test\n",
    "    results['f_test'] = fbeta_score(y_test[:sample_size], predictions_test, beta=0.5)\n",
    "       \n",
    "    # Success\n",
    "    print \"{} trained on {} samples.\".format(learner.__class__.__name__, sample_size)\n",
    "        \n",
    "    # Return the results\n",
    "    return results"
   ]
  },
  {
   "cell_type": "code",
   "execution_count": 11,
   "metadata": {
    "scrolled": true
   },
   "outputs": [
    {
     "name": "stdout",
     "output_type": "stream",
     "text": [
      "KNeighborsClassifier trained on 361 samples.\n",
      "KNeighborsClassifier trained on 3617 samples.\n",
      "KNeighborsClassifier trained on 36177 samples.\n",
      "DecisionTreeClassifier trained on 361 samples.\n",
      "DecisionTreeClassifier trained on 3617 samples.\n",
      "DecisionTreeClassifier trained on 36177 samples.\n",
      "LogisticRegression trained on 361 samples.\n",
      "LogisticRegression trained on 3617 samples.\n",
      "LogisticRegression trained on 36177 samples.\n"
     ]
    }
   ],
   "source": [
    "from sklearn import tree\n",
    "from sklearn.linear_model import LogisticRegression\n",
    "from sklearn.naive_bayes import GaussianNB\n",
    "from sklearn.neighbors import KNeighborsClassifier\n",
    "\n",
    "clf_A = KNeighborsClassifier()\n",
    "clf_B = tree.DecisionTreeClassifier()\n",
    "clf_C = LogisticRegression()\n",
    "\n",
    "#Calculate the number of samples for 1%, 10%, and 100% of the training data\n",
    "samples_100 = len(y_train)\n",
    "samples_10 = int(0.1*samples_100)\n",
    "samples_1 = int(0.1*samples_10)\n",
    "\n",
    "# Collect results on the learners\n",
    "results = {}\n",
    "for clf in [clf_A, clf_B, clf_C]:\n",
    "    clf_name = clf.__class__.__name__\n",
    "    results[clf_name] = {}\n",
    "    for i, samples in enumerate([samples_1, samples_10, samples_100]):\n",
    "        results[clf_name][i] = train_predict(clf, samples, X_train, y_train, X_test, y_test)"
   ]
  },
  {
   "cell_type": "code",
   "execution_count": 12,
   "metadata": {},
   "outputs": [
    {
     "data": {
      "image/png": "[encoded data removed]",
      "text/plain": [
       "<matplotlib.figure.Figure at 0xc1462b0>"
      ]
     },
     "metadata": {},
     "output_type": "display_data"
    }
   ],
   "source": [
    "# Run metrics visualization for the three supervised learning models chosen\n",
    "vs.evaluate(results, accuracy, fscore)"
   ]
  },
  {
   "cell_type": "code",
   "execution_count": 13,
   "metadata": {},
   "outputs": [
    {
     "name": "stdout",
     "output_type": "stream",
     "text": [
      "{0: {'pred_time': 0.031000137329101562, 'f_test': 0.63636363636363635, 'train_time': 0.03099989891052246, 'acc_train': 0.85999999999999999, 'acc_test': 0.83379501385041555, 'f_train': 0.73863636363636354}, 1: {'pred_time': 0.016000032424926758, 'f_test': 0.66553384310393648, 'train_time': 0.04699993133544922, 'acc_train': 0.84666666666666668, 'acc_test': 0.84019905999447053, 'f_train': 0.703125}, 2: {'pred_time': 0.032000064849853516, 'f_test': 0.68316522824165538, 'train_time': 0.33699989318847656, 'acc_train': 0.84666666666666668, 'acc_test': 0.841901603095633, 'f_train': 0.69852941176470584}}\n"
     ]
    }
   ],
   "source": [
    "print results['LogisticRegression']"
   ]
  },
  {
   "cell_type": "markdown",
   "metadata": {},
   "source": [
    "<b>Question 3 - Choosing the Best Model</b><br>\n",
    "Based on the evaluation you performed earlier, in one to two paragraphs, explain to CharityML which of the three models you believe to be most appropriate for the task of identifying individuals that make more than \\$50,000.\n",
    "\n",
    "<b>Answer 3</b>: The best model for identifying individuals that make more than \\$50,000 is logistic regression. This model has the highest F score of 0.683 for 100% of the training data as well as the highest accuracy of 0.842. Furthermore, the training and testing scores rapidly converge to the same values, which means that the model is not overfit or underfit. K-nearest neighbors has the second best score metrics, but a significantly larger computation time. The decision tree has a similar computation time as logistic regression, but has the lowest score metrics. Additionally, the decision tree demonstrates slow convergence of testing and training scores, and a trivially high training score, which are indicative of overfitting.\n",
    "\n",
    "The superiority of the logistic regression model is due to its suitability for the data compared to the others. The features are not strong enough to cleanly divide income classes, so the high earners will be distributed among lower earners albeit with a higher probability for certain ranges of features. This means that K-nearest will perform poorly and the decision tree will be susceptible to overfitting unless the parameters are optimized."
   ]
  },
  {
   "cell_type": "markdown",
   "metadata": {
    "collapsed": true
   },
   "source": [
    "<b>Question 4 - Describing the model is layman's terms</b><br>\n",
    "In one to two paragraphs, explain to CharityML, in layman's terms, how the final model chosen is supposed to work. Be sure that you are describing the major qualities of the model, such as how the model is trained and how the model makes a prediction. Avoid using advanced mathematical jargon, such as describing equations.\n",
    "\n",
    "<b>Answer 4:</b> The best model for classifying potential donors by high (greater than or equal \\$50,000) or low income (less than \\$50,000) is logistic regression. This model works by learning how to answer the yes/no question 'Does this individual earn \\$50,000 or greater?' based on a large data set (\\>40,000 people) that specifies, for each person, various characteristics or 'features' (age, occupation, etc.) and whether they make greater than or equal to \\$50,000 or less than \\$50,000 (or 'outcomes'.) \n",
    "\n",
    "The data includes both discreet or 'categorical' features and continuous or 'numerical' features. To understand the classification model, it is helpful to imagine the data points (i.e. people) plotted on a graph where the axes represent different features (a 'feature space') and the color of the dot represents the outcome. \n",
    "\n",
    "It is possible that there is a strict separation of points so that one region of feature space has almost all high income earners and another has almost all low earners. More likely however, there is an overlap of income classes with regions of <i>relatively</i> higher or lower proportions of each class, which is more consistent with numerical features (i.e. those that can change by arbitrarily small amounts). Logistic regression learns how the fraction of high earners changes continously with the changing features, and so is appropriate for this data.\n",
    "\n",
    "As with many machine learning models, the data set is first split into a 'training set' used to develop the model based on the known outcomes and a smaller 'testing set' used to test it by predicting the outcomes and checking. The logistic regresssion model is trained by dividing the feature space into small regions and calculating the fraction of high earners in the training data that have features in each region. Linear regression is then used to fit this fraction to a continuous function of the features.\n",
    "\n",
    "Predictions are made by equating the fraction of high income earners with the probability that a given testing point at the same feature values be a high earner. Finally, the high and low income labels are assigned randomly with this probability."
   ]
  },
  {
   "cell_type": "code",
   "execution_count": 14,
   "metadata": {},
   "outputs": [
    {
     "name": "stderr",
     "output_type": "stream",
     "text": [
      "C:\\Users\\J\\Anaconda2\\lib\\site-packages\\sklearn\\grid_search.py:43: DeprecationWarning: This module was deprecated in version 0.18 in favor of the model_selection module into which all the refactored classes and functions are moved. This module will be removed in 0.20.\n",
      "  DeprecationWarning)\n"
     ]
    },
    {
     "name": "stdout",
     "output_type": "stream",
     "text": [
      "Unoptimized model\n",
      "------\n",
      "Accuracy score on testing data: 0.8419\n",
      "F-score on testing data: 0.6832\n",
      "\n",
      "Optimized Model\n",
      "------\n",
      "Final accuracy score on the testing data: 0.8423\n",
      "Final F-score on the testing data: 0.6849\n"
     ]
    }
   ],
   "source": [
    "from sklearn.grid_search import GridSearchCV\n",
    "from sklearn.metrics import fbeta_score, make_scorer\n",
    "from sklearn.tree import DecisionTreeClassifier\n",
    "from sklearn.linear_model import LogisticRegression\n",
    "\n",
    "\n",
    "#Initialize the classifier\n",
    "#clfa = DecisionTreeClassifier()\n",
    "clf = LogisticRegression()\n",
    "\n",
    "parameters = {\"solver\" : [\"newton-cg\", \"lbfgs\", \"liblinear\",\"sag\"], \"C\": [0.01,0.02,0.05,0.1,0.5]}\n",
    "\n",
    "scorer = make_scorer(fbeta_score, beta=0.5)\n",
    "grid_obj = GridSearchCV(estimator = clf, param_grid = parameters, scoring = scorer)\n",
    "\n",
    "grid_fit = grid_obj.fit(np.array(X_train), np.array(y_train))\n",
    "\n",
    "best_clf = grid_fit.best_estimator_\n",
    "\n",
    "\n",
    "predictions = (clf.fit(X_train, y_train)).predict(X_test)\n",
    "best_predictions = best_clf.predict(X_test)\n",
    "\n",
    "print \"Unoptimized model\\n------\"\n",
    "print \"Accuracy score on testing data: {:.4f}\".format(accuracy_score(y_test, predictions))\n",
    "print \"F-score on testing data: {:.4f}\".format(fbeta_score(y_test, predictions, beta = 0.5))\n",
    "print \"\\nOptimized Model\\n------\"\n",
    "print \"Final accuracy score on the testing data: {:.4f}\".format(accuracy_score(y_test, best_predictions))\n",
    "print \"Final F-score on the testing data: {:.4f}\".format(fbeta_score(y_test, best_predictions, beta = 0.5))"
   ]
  },
  {
   "cell_type": "markdown",
   "metadata": {
    "collapsed": true
   },
   "source": [
    "<b>Question 5 - Final Model Evaluation</b>\n",
    "What is your optimized model's accuracy and F-score on the testing data?\n",
    "Are these scores better or worse than the unoptimized model?\n",
    "How do the results from your optimized model compare to the naive predictor benchmarks you found earlier in Question 1?<\n",
    "\n",
    "\n",
    "<b>Answer 5:</b>"
   ]
  },
  {
   "cell_type": "markdown",
   "metadata": {},
   "source": [
    "<table>\n",
    "<thead>\n",
    "<tr>\n",
    "<th style=\"text-align:center\">Metric</th>\n",
    "<th style=\"text-align:center\">Unoptimized Model</th>\n",
    "<th style=\"text-align:center\">Optimized Model</th>\n",
    "</tr>\n",
    "</thead>\n",
    "<tbody>\n",
    "<tr>\n",
    "<td style=\"text-align:center\">Accuracy Score</td>\n",
    "<td style=\"text-align:center\">0.8419</td>\n",
    "<td style=\"text-align:center\">0.8423</td>\n",
    "</tr>\n",
    "<tr>\n",
    "<td style=\"text-align:center\">F-score</td>\n",
    "<td style=\"text-align:center\">0.6832</td>\n",
    "<td style=\"text-align:center\">0.6849</td>\n",
    "</tr>\n",
    "</tbody>\n",
    "</table>\n",
    "<br>"
   ]
  },
  {
   "cell_type": "markdown",
   "metadata": {},
   "source": [
    "<table>\n",
    "<thead>\n",
    "<tr>\n",
    "<th style=\"text-align:center\">Metric</th>\n",
    "<th style=\"text-align:center\">Naive Model</th>\n",
    "</tr>\n",
    "</thead>\n",
    "<tbody>\n",
    "<tr>\n",
    "<td style=\"text-align:center\">Accuracy Score</td>\n",
    "<td style=\"text-align:center\">0.2478</td>\n",
    "</tr>\n",
    "<tr>\n",
    "<td style=\"text-align:center\">F-score</td>\n",
    "<td style=\"text-align:center\">0.2917</td>\n",
    "</tr>\n",
    "</tbody>\n",
    "</table>"
   ]
  },
  {
   "cell_type": "markdown",
   "metadata": {},
   "source": [
    "The optimized model is slightly better than the unoptimized model and significantly better than the naive model."
   ]
  },
  {
   "cell_type": "markdown",
   "metadata": {},
   "source": [
    "<b>Question 6 - Feature Relevance Observation</b><br>\n",
    "When Exploring the Data, it was shown there are thirteen available features for each individual on record in the census data. Of these thirteen records, which five features do you believe to be most important for prediction, and in what order would you rank them and why? \n",
    "\n",
    "<b>Answer 6:</b> The most important features in decreasing order are most likely: occupation, education level, marital status, capital gain, and age. Occupation is probably most important because it includes categories that strictly separate income classes like executive/managerial (high earning) and cleaning (low earning). \n",
    "\n",
    "The remaining features are proxies for having a high or low income job. <b>Education level</b> and <b>marital status</b> are high in importance because there is an established trend in the US that people who are middle or upper class earners are more likely to be married and have a college education than working class earners  [<a target=\"_blank\" href=\"https://www.nytimes.com/2017/09/25/upshot/how-did-marriage-become-a-mark-of-privilege.html?mcubz=0\">15</a>] (in previous decades, there was a far lower class divide by marriage and a college education was not neccesarily a requirement for earning a middle class wage.) <b>Capital gain</b> should roughly correlate with income, but is not as important. Higher income people are more likely to make additional income from capital gains, but an individual's investments can increase or decrease in a particular time period independently of the person's salaried income.\n",
    "\n",
    "<b>Age</b>, while important overall, is likely to be of relatively lower importance than the other four features. Although age has a direct correlation to income, the correlation is much stronger for individuals throughout their lifetimes (i.e. people tend to make more money as they get older and more experiened) than for the population as a whole which includes individuals with different education levels and occupations [<a target=\"_blank\" href=\"https://www.bls.gov/opub/ted/2017/womens-and-mens-earnings-by-age-in-2016.htm\">7</a>]. \n"
   ]
  },
  {
   "cell_type": "code",
   "execution_count": 19,
   "metadata": {
    "scrolled": true
   },
   "outputs": [],
   "source": [
    "#Train the supervised model on the training set using .fit(X_train, y_train)\n",
    "model = DecisionTreeClassifier()\n",
    "modelfit  = model.fit(X_train,y_train)\n",
    "\n",
    "#Extract the feature importances using .feature_importances_ \n",
    "importances = modelfit.feature_importances_vs.feature_plot(importances, X_train, y_train)"
   ]
  },
  {
   "cell_type": "code",
   "execution_count": 20,
   "metadata": {},
   "outputs": [
    {
     "data": {
      "image/png": "[encoded data removed]",
      "text/plain": [
       "<matplotlib.figure.Figure at 0x14387a58>"
      ]
     },
     "metadata": {},
     "output_type": "display_data"
    }
   ],
   "source": [
    "vs.feature_plot(importances, X_train, y_train)"
   ]
  },
  {
   "cell_type": "markdown",
   "metadata": {},
   "source": [
    "<b>Question 7 - Extracting Feature Importance</b><br>\n",
    "Observe the visualization created above which displays the five most relevant features for predicting if an individual makes at most or above \\$50,000.\n",
    "How do these five features compare to the five features you discussed in Question 6?\n",
    "If you were close to the same answer, how does this visualization confirm your thoughts?\n",
    "If you were not close, why do you think these features are more relevant?\n",
    "\n",
    "<b>Answer</b>: The only relevant feature which I did not predict is hours per week, and the only feature I predicted that was not among most relevent is occupation.\n",
    "\n",
    "My assumption that Executive/Managerial jobs mostly have high incomes turned out to be false, the actual correlation between this variable and income being 0.21 (see below). \n",
    "\n",
    "Hours per week is the weakest of the top features and the remaining four confirm my intuition: being married, education, capital gains and age are some of the most important features, with marriage and education more important than capital gains. Age turns out to be significantly more important than a thought, ranking between marriage and education."
   ]
  },
  {
   "cell_type": "code",
   "execution_count": 21,
   "metadata": {},
   "outputs": [
    {
     "name": "stdout",
     "output_type": "stream",
     "text": [
      "Correlation between income class and Executive/Managerial occupation: 0.2092\n"
     ]
    }
   ],
   "source": [
    "exec_income_corr = np.corrcoef(income, features_final['occupation_ Exec-managerial'], rowvar = 0)[0,1]\n",
    "print \"Correlation between income class and Executive/Managerial occupation: {:.4f}\".format(exec_income_corr)"
   ]
  },
  {
   "cell_type": "code",
   "execution_count": 22,
   "metadata": {},
   "outputs": [
    {
     "name": "stdout",
     "output_type": "stream",
     "text": [
      "Correlation between income class and age: 0.2370\n"
     ]
    }
   ],
   "source": [
    "age_income_corr = np.corrcoef(income, features_final['age'], rowvar = 0)[0,1]\n",
    "print \"Correlation between income class and age: {:.4f}\".format(age_income_corr)"
   ]
  },
  {
   "cell_type": "code",
   "execution_count": 23,
   "metadata": {},
   "outputs": [
    {
     "name": "stdout",
     "output_type": "stream",
     "text": [
      "Final Model trained on full data\n",
      "------\n",
      "Accuracy on testing data: 0.8423\n",
      "F-score on testing data: 0.6849\n",
      "Computation time: 0.0750\n",
      "\n",
      "Final Model trained on reduced data\n",
      "------\n",
      "Accuracy on testing data: 0.8266\n",
      "F-score on testing data: 0.6481\n",
      "Computation time: 0.0000\n"
     ]
    }
   ],
   "source": [
    "# Import functionality for cloning a model\n",
    "from sklearn.base import clone\n",
    "\n",
    "# Reduce the feature space\n",
    "X_train_reduced = X_train[X_train.columns.values[(np.argsort(importances)[::-1])[:5]]]\n",
    "X_test_reduced = X_test[X_test.columns.values[(np.argsort(importances)[::-1])[:5]]]\n",
    "\n",
    "# Train on the \"best\" model found from grid search earlier\n",
    "start = time()\n",
    "clf = (clone(clf)).fit(X_train_reduced, y_train)\n",
    "end = time()\n",
    "best_time = end - start\n",
    "\n",
    "# Make new predictions\n",
    "start = time()\n",
    "reduced_predictions = clf.predict(X_test_reduced)\n",
    "end = time()\n",
    "reduced_time = end - start\n",
    "\n",
    "# Report scores from the final model using both versions of data\n",
    "print \"Final Model trained on full data\\n------\"\n",
    "print \"Accuracy on testing data: {:.4f}\".format(accuracy_score(y_test, best_predictions))\n",
    "print \"F-score on testing data: {:.4f}\".format(fbeta_score(y_test, best_predictions, beta = 0.5))\n",
    "print \"Computation time: {:.4f}\".format(best_time)\n",
    "print \"\\nFinal Model trained on reduced data\\n------\"\n",
    "print \"Accuracy on testing data: {:.4f}\".format(accuracy_score(y_test, reduced_predictions))\n",
    "print \"F-score on testing data: {:.4f}\".format(fbeta_score(y_test, reduced_predictions, beta = 0.5))\n",
    "print \"Computation time: {:.4f}\".format(reduced_time)"
   ]
  },
  {
   "cell_type": "markdown",
   "metadata": {},
   "source": [
    "<b>Question 8</b> - Effects of Feature Selection\n",
    "How does the final model's F-score and accuracy score on the reduced data using only five features compare to those same scores when all features are used? If training time was a factor, would you consider using the reduced data as your training set?\n",
    "\n",
    "<b>Answer 8</b>: In the reduced data model, accuracy drops to 83% from 84%, and F score drops to 65% from 69%. This is only a slight reduction in score while the computation time (see previous cell) drops to essentially zero (to four decimal places) from 0.1270. The reduced data model should be considered for large datasets if a shorter computation time is desired."
   ]
  },
  {
   "cell_type": "markdown",
   "metadata": {},
   "source": [
    "<b>References</b>\n",
    "1. http://www-personal.umich.edu/~mejn/election/2016/\n",
    "2. https://www.nytimes.com/interactive/2016/11/08/us/politics/election-exit-polls.html\n",
    "3. https://demographics.virginia.edu/DotMap/\n",
    "4. http://scikit-learn.org/stable/modules/tree.html#tree\n",
    "5. \"Principles of Data Mining\". 2007.\n",
    "6. https://www.bls.gov/opub/ted/2015/median-weekly-earnings-by-education-gender-race-and-ethnicity-in-2014.htm\n",
    "7. https://www.bls.gov/opub/ted/2017/womens-and-mens-earnings-by-age-in-2016.htm\n",
    "8. http://www.pewresearch.org/fact-tank/2017/03/09/led-by-baby-boomers-divorce-rates-climb-for-americas-50-population/\n",
    "9. http://www.pewresearch.org/fact-tank/2017/09/14/as-u-s-marriage-rate-hovers-at-50-education-gap-in-marital-status-widens/\n",
    "10. http://scikit-learn.org/stable/modules/linear_model.html#logistic-regression\n",
    "11. Menard, Scott W. (2002). Applied Logistic Regression (2nd ed.). SAGE\n",
    "12. http://scikit-learn.org/stable/modules/neighbors.html#classification\n",
    "13. Altman, N. S. (1992). \"An introduction to kernel and nearest-neighbor nonparametric regression\". The American Statistician. 46 (3): 175–185.\n",
    "14. http://scikit-learn.org/stable/modules/neighbors.html#nearest-neighbor-algorithms\n",
    "15. http://scikit-learn.org/stable/modules/neighbors.html#nearest-neighbor-algorithms\n",
    "16. https://www.nytimes.com/2017/09/25/upshot/how-did-marriage-become-a-mark-of-privilege.html?mcubz=0\n"
   ]
  },
  {
   "cell_type": "code",
   "execution_count": null,
   "metadata": {
    "collapsed": true
   },
   "outputs": [],
   "source": []
  }
 ],
 "metadata": {
  "kernelspec": {
   "display_name": "Python 2",
   "language": "python",
   "name": "python2"
  },
  "language_info": {
   "codemirror_mode": {
    "name": "ipython",
    "version": 2
   },
   "file_extension": ".py",
   "mimetype": "text/x-python",
   "name": "python",
   "nbconvert_exporter": "python",
   "pygments_lexer": "ipython2",
   "version": "2.7.13"
  }
 },
 "nbformat": 4,
 "nbformat_minor": 2
}
